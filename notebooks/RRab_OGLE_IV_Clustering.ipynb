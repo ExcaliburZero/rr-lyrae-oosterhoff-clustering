{
 "cells": [
  {
   "cell_type": "code",
   "execution_count": null,
   "metadata": {},
   "outputs": [],
   "source": [
    "from plotnine import *\n",
    "\n",
    "import numpy as np\n",
    "import pandas as pd"
   ]
  },
  {
   "cell_type": "markdown",
   "metadata": {},
   "source": [
    "## LMC"
   ]
  },
  {
   "cell_type": "code",
   "execution_count": null,
   "metadata": {},
   "outputs": [],
   "source": [
    "lmc_file = \"../data/interim/lmc/RRab.csv\"\n",
    "lmc = pd.read_csv(lmc_file)\n",
    "\n",
    "AMPLITUDE = \"I_amplitude\"\n",
    "PERIOD = \"period\"\n",
    "\n",
    "USED_COLUMNS = [PERIOD, AMPLITUDE]\n",
    "\n",
    "lmc = lmc[USED_COLUMNS]\n",
    "\n",
    "lmc = lmc.dropna()\n",
    "\n",
    "print(lmc.info())\n",
    "lmc.describe()"
   ]
  },
  {
   "cell_type": "markdown",
   "metadata": {},
   "source": [
    "Let's compute a density estimate for the data points. This will let us see the clustering of the data and help later on for narrowing down the data for curve fitting."
   ]
  },
  {
   "cell_type": "code",
   "execution_count": null,
   "metadata": {},
   "outputs": [],
   "source": [
    "from scipy import stats\n",
    "\n",
    "x_a = np.array(lmc[PERIOD])\n",
    "y_a = np.array(lmc[AMPLITUDE])\n",
    "points = np.vstack([x_a.ravel(), y_a.ravel()])\n",
    "\n",
    "xmin, xmax = min(x_a), max(x_a)\n",
    "ymin, ymax = min(y_a), max(y_a)\n",
    "\n",
    "x, y = np.mgrid[xmin:xmax:100j, ymin:ymax:100j]\n",
    "positions = np.vstack([x.ravel(), y.ravel()])\n",
    "values = np.vstack([x_a, y_a])\n",
    "kernel = stats.gaussian_kde(values)"
   ]
  },
  {
   "cell_type": "code",
   "execution_count": null,
   "metadata": {},
   "outputs": [],
   "source": [
    "lmc[\"density\"] = kernel.evaluate(points)"
   ]
  },
  {
   "cell_type": "code",
   "execution_count": null,
   "metadata": {},
   "outputs": [],
   "source": [
    "ggplot(lmc, aes(PERIOD, AMPLITUDE, color=\"density\")) +\\\n",
    "    geom_point() +\\\n",
    "    xlab(\"Period (days)\") +\\\n",
    "    ylab(\"Amplitude I band (mag)\") +\\\n",
    "    ggtitle(\"OGLE IV LMC - Period-Amplitude Density\") +\\\n",
    "    xlim(0.35, 1.0) +\\\n",
    "    ylim(0.0, 1.1)"
   ]
  },
  {
   "cell_type": "markdown",
   "metadata": {},
   "source": [
    "Here we can see that there is a section of the data plot where the points cluster densly along a curve. The boundry between the Oost I and Oost II groups also looks like it follows a similar trend.\n",
    "\n",
    "Let's try to get the equation for that line.\n",
    "\n",
    "If we just were to take the overall trend of the data, then the resulting fit curve would be different from that of the dense area, so let's just fit the curve to the more dense area."
   ]
  },
  {
   "cell_type": "code",
   "execution_count": null,
   "metadata": {},
   "outputs": [],
   "source": [
    "dense = lmc[lmc[\"density\"] > 12]"
   ]
  },
  {
   "cell_type": "code",
   "execution_count": null,
   "metadata": {},
   "outputs": [],
   "source": [
    "ggplot(dense, aes(PERIOD, AMPLITUDE, color=\"density\")) +\\\n",
    "    geom_point()"
   ]
  },
  {
   "cell_type": "markdown",
   "metadata": {},
   "source": [
    "For the curve model to fit to the data we will go with a 3rd degree polynomial. A 2nd degree polynomial seems like it would fit the curve better, but using a 3rd degree polynomial will help improve the clustering boundary results."
   ]
  },
  {
   "cell_type": "code",
   "execution_count": null,
   "metadata": {},
   "outputs": [],
   "source": [
    "from sklearn.preprocessing import PolynomialFeatures\n",
    "from sklearn.linear_model import LinearRegression\n",
    "from sklearn.pipeline import make_pipeline\n",
    "\n",
    "X_reg = dense[PERIOD].values.reshape(-1, 1)\n",
    "y_reg = dense[AMPLITUDE].values.reshape(-1, 1)\n",
    "\n",
    "poly = PolynomialFeatures(degree=3)\n",
    "reg = LinearRegression()\n",
    "\n",
    "poly_regression = make_pipeline(poly, reg)\n",
    "\n",
    "poly_regression.fit(X_reg, y_reg)"
   ]
  },
  {
   "cell_type": "markdown",
   "metadata": {},
   "source": [
    "The equation for the line we have fit is the following:"
   ]
  },
  {
   "cell_type": "code",
   "execution_count": null,
   "metadata": {},
   "outputs": [],
   "source": [
    "coef = reg.coef_\n",
    "\n",
    "print(\"amp = %f + %f * per + %f * per^2 + %f * per^3\" % \\\n",
    "      (coef[0][0] + reg.intercept_, coef[0][1], coef[0][2], coef[0][3]))"
   ]
  },
  {
   "cell_type": "markdown",
   "metadata": {},
   "source": [
    "Now let's apply the fit curve function to the period values in the dataset so that we can overlay the curve on the data and see how well it fits."
   ]
  },
  {
   "cell_type": "code",
   "execution_count": null,
   "metadata": {},
   "outputs": [],
   "source": [
    "X_curve = lmc.as_matrix([PERIOD])\n",
    "y_curve = poly_regression.predict(X_curve)\n",
    "\n",
    "lmc[\"curve\"] = y_curve"
   ]
  },
  {
   "cell_type": "code",
   "execution_count": null,
   "metadata": {},
   "outputs": [],
   "source": [
    "ggplot(lmc, aes(PERIOD, AMPLITUDE, color=\"density\")) +\\\n",
    "    geom_point() +\\\n",
    "    geom_point(aes(PERIOD, \"curve\"), color=\"Red\") +\\\n",
    "    ylim(0.0, 1.25)"
   ]
  },
  {
   "cell_type": "markdown",
   "metadata": {},
   "source": [
    "The curve seems to fit the data reasonably well. The 3rd degree nature of the fit seems odd at the ends of the data space, but it will help in the clustering.\n",
    "\n",
    "Now that we have the equation for the curve, let's try warping the data space around the curve to create a new feature to use for clustering."
   ]
  },
  {
   "cell_type": "code",
   "execution_count": null,
   "metadata": {},
   "outputs": [],
   "source": [
    "lmc[\"y\"] = lmc[AMPLITUDE] - lmc[\"curve\"]"
   ]
  },
  {
   "cell_type": "code",
   "execution_count": null,
   "metadata": {},
   "outputs": [],
   "source": [
    "ggplot(lmc, aes(PERIOD, \"y\", color=\"density\")) +\\\n",
    "    geom_point() +\\\n",
    "    xlab(\"Period (days)\") +\\\n",
    "    ylab(\"Signal subtracted Amplitude I band (mag)\") +\\\n",
    "    ggtitle(\"OGLE IV LMC - Signal Subtracted Density\")"
   ]
  },
  {
   "cell_type": "markdown",
   "metadata": {},
   "source": [
    "Since the boundary between the Oost I and Oost II seems to follow a similar shape to the curve we bent the space over, in this new feature `y` a horizontal line should form a properly shaped decision boundary.\n",
    "\n",
    "Let's now try doings some clustering using this new feature. For now we will use KMeans with 3 clusters as this provides good clustering in relation to the Oosterhoff groups.\n",
    "\n",
    "A similar approach with 2 clusters was attempted, but it did not properly approximate the boundary between the Oosterhoff groups."
   ]
  },
  {
   "cell_type": "code",
   "execution_count": null,
   "metadata": {},
   "outputs": [],
   "source": [
    "from sklearn.cluster import KMeans\n",
    "from sklearn.preprocessing import StandardScaler\n",
    "from sklearn.pipeline import make_pipeline\n",
    "\n",
    "X_clustering = lmc.as_matrix([\"y\"])\n",
    "\n",
    "num_clusters = 3\n",
    "clustering = KMeans(n_clusters=num_clusters, random_state=0)\n",
    "scaler = StandardScaler()\n",
    "\n",
    "clustering_pipe = make_pipeline(scaler, clustering)\n",
    "\n",
    "clusters = clustering_pipe.fit_predict(X_clustering)"
   ]
  },
  {
   "cell_type": "code",
   "execution_count": null,
   "metadata": {},
   "outputs": [],
   "source": [
    "lmc[\"clusters\"] = clusters"
   ]
  },
  {
   "cell_type": "code",
   "execution_count": null,
   "metadata": {},
   "outputs": [],
   "source": [
    "ggplot(lmc, aes(PERIOD, \"y\", color=\"clusters\")) +\\\n",
    "    geom_point()"
   ]
  },
  {
   "cell_type": "code",
   "execution_count": null,
   "metadata": {},
   "outputs": [],
   "source": [
    "ggplot(lmc.iloc[:5000], aes(PERIOD, AMPLITUDE, color=\"clusters\")) +\\\n",
    "    geom_point()"
   ]
  },
  {
   "cell_type": "markdown",
   "metadata": {},
   "source": [
    "Here we can see that the points in the cluster `0` appear to be those in the Oost I group, and the points in the clusters `1` and `2` appear to be those in the Oost II group.\n",
    "\n",
    "Let's simplify these clusters into a binary feature for Oosterhoff group."
   ]
  },
  {
   "cell_type": "code",
   "execution_count": null,
   "metadata": {},
   "outputs": [],
   "source": [
    "LMC_OOST_1_CLUSTER = 1\n",
    "\n",
    "lmc[\"is_oost_ii\"] = lmc[\"clusters\"].map(lambda x: x != LMC_OOST_1_CLUSTER)"
   ]
  },
  {
   "cell_type": "code",
   "execution_count": null,
   "metadata": {},
   "outputs": [],
   "source": [
    "ggplot(lmc, aes(PERIOD, AMPLITUDE, color=\"is_oost_ii\")) +\\\n",
    "    geom_point() +\\\n",
    "    ylim(0.0, 1.25) +\\\n",
    "    xlab(\"Period (days)\") +\\\n",
    "    ylab(\"Amplitude I band (mag)\") +\\\n",
    "    ggtitle(\"OGLE IV LMC - Oosterhoff Groups\")"
   ]
  },
  {
   "cell_type": "code",
   "execution_count": null,
   "metadata": {},
   "outputs": [],
   "source": [
    "ggplot(lmc, aes(PERIOD, AMPLITUDE, color=\"density\")) +\\\n",
    "    facet_wrap(\"~is_oost_ii\") +\\\n",
    "    geom_point()"
   ]
  },
  {
   "cell_type": "markdown",
   "metadata": {},
   "source": [
    "So now that we have performed the clustering, let's get the equation for the decision boundary between the two Oosterhoff groups."
   ]
  },
  {
   "cell_type": "code",
   "execution_count": null,
   "metadata": {},
   "outputs": [],
   "source": [
    "boundary_y = lmc[lmc[\"clusters\"] == LMC_OOST_1_CLUSTER][\"y\"].max()"
   ]
  },
  {
   "cell_type": "code",
   "execution_count": null,
   "metadata": {},
   "outputs": [],
   "source": [
    "print(\"amp = %f + %f * per + %f * per^2 + %f * per^3\" % \\\n",
    "      (boundary_y + coef[0][0] + reg.intercept_, coef[0][1], coef[0][2], coef[0][3]))"
   ]
  },
  {
   "cell_type": "markdown",
   "metadata": {},
   "source": [
    "Let's plot the decision boundary to double check that we have the correct equation."
   ]
  },
  {
   "cell_type": "code",
   "execution_count": null,
   "metadata": {},
   "outputs": [],
   "source": [
    "X_boundary = lmc[PERIOD].values.reshape(-1, 1)\n",
    "y_boundary = poly_regression.predict(X_boundary) + boundary_y\n",
    "\n",
    "lmc[\"boundary\"] = y_boundary"
   ]
  },
  {
   "cell_type": "code",
   "execution_count": null,
   "metadata": {},
   "outputs": [],
   "source": [
    "ggplot(lmc, aes(PERIOD, AMPLITUDE, color=\"density\")) +\\\n",
    "    geom_point() +\\\n",
    "    geom_point(aes(PERIOD, \"boundary\"), color=\"Red\") +\\\n",
    "    ylim(0.0, 1.25) +\\\n",
    "    xlab(\"Period (days)\") +\\\n",
    "    ylab(\"Amplitude I band (mag)\")"
   ]
  },
  {
   "cell_type": "markdown",
   "metadata": {},
   "source": [
    "## SMC\n",
    "Now let's try applying the same approach to the SMC data."
   ]
  },
  {
   "cell_type": "code",
   "execution_count": null,
   "metadata": {},
   "outputs": [],
   "source": [
    "smc_file = \"../data/interim/smc/RRab.csv\"\n",
    "smc = pd.read_csv(smc_file)\n",
    "\n",
    "smc = smc[USED_COLUMNS]\n",
    "\n",
    "smc = smc.dropna()\n",
    "\n",
    "print(smc.info())\n",
    "smc.describe()"
   ]
  },
  {
   "cell_type": "code",
   "execution_count": null,
   "metadata": {},
   "outputs": [],
   "source": [
    "from scipy import stats\n",
    "\n",
    "x_a = np.array(smc[PERIOD])\n",
    "y_a = np.array(smc[AMPLITUDE])\n",
    "points = np.vstack([x_a.ravel(), y_a.ravel()])\n",
    "\n",
    "xmin, xmax = min(x_a), max(x_a)\n",
    "ymin, ymax = min(y_a), max(y_a)\n",
    "\n",
    "x, y = np.mgrid[xmin:xmax:100j, ymin:ymax:100j]\n",
    "positions = np.vstack([x.ravel(), y.ravel()])\n",
    "values = np.vstack([x_a, y_a])\n",
    "kernel = stats.gaussian_kde(values)"
   ]
  },
  {
   "cell_type": "code",
   "execution_count": null,
   "metadata": {},
   "outputs": [],
   "source": [
    "smc[\"density\"] = kernel.evaluate(points)"
   ]
  },
  {
   "cell_type": "code",
   "execution_count": null,
   "metadata": {},
   "outputs": [],
   "source": [
    "ggplot(smc, aes(PERIOD, AMPLITUDE, color=\"density\")) +\\\n",
    "    geom_point() +\\\n",
    "    xlab(\"Period (days)\") +\\\n",
    "    ylab(\"Amplitude I band (mag)\") +\\\n",
    "    ggtitle(\"OGLE IV SMC - Period-Amplitude Density\") +\\\n",
    "    xlim(0.35, 1.0) +\\\n",
    "    ylim(0.0, 1.1)"
   ]
  },
  {
   "cell_type": "code",
   "execution_count": null,
   "metadata": {},
   "outputs": [],
   "source": [
    "dense_smc = smc[smc[\"density\"] > 17] # 23"
   ]
  },
  {
   "cell_type": "code",
   "execution_count": null,
   "metadata": {},
   "outputs": [],
   "source": [
    "ggplot(dense_smc, aes(PERIOD, AMPLITUDE, color=\"density\")) +\\\n",
    "    geom_point()"
   ]
  },
  {
   "cell_type": "code",
   "execution_count": null,
   "metadata": {},
   "outputs": [],
   "source": [
    "from sklearn.preprocessing import PolynomialFeatures\n",
    "from sklearn.linear_model import LinearRegression\n",
    "from sklearn.pipeline import make_pipeline\n",
    "\n",
    "X_reg = dense_smc[PERIOD].values.reshape(-1, 1)\n",
    "y_reg = dense_smc[AMPLITUDE].values.reshape(-1, 1)\n",
    "\n",
    "poly = PolynomialFeatures(degree=3)\n",
    "reg = LinearRegression()\n",
    "\n",
    "poly_regression = make_pipeline(poly, reg)\n",
    "\n",
    "poly_regression.fit(X_reg, y_reg)"
   ]
  },
  {
   "cell_type": "code",
   "execution_count": null,
   "metadata": {},
   "outputs": [],
   "source": [
    "coef = reg.coef_\n",
    "\n",
    "print(\"amp = %f + %f * per + %f * per^2 + %f * per^3\" % \\\n",
    "      (coef[0][0] + reg.intercept_, coef[0][1], coef[0][2], coef[0][3]))"
   ]
  },
  {
   "cell_type": "code",
   "execution_count": null,
   "metadata": {},
   "outputs": [],
   "source": [
    "X_curve = smc[PERIOD].values.reshape(-1,1)\n",
    "y_curve = poly_regression.predict(X_curve)\n",
    "\n",
    "smc[\"curve\"] = y_curve"
   ]
  },
  {
   "cell_type": "code",
   "execution_count": null,
   "metadata": {},
   "outputs": [],
   "source": [
    "ggplot(smc, aes(PERIOD, AMPLITUDE, color=\"density\")) +\\\n",
    "    geom_point() +\\\n",
    "    geom_point(aes(PERIOD, \"curve\"), color=\"Red\") +\\\n",
    "    ylim(0.0, 1.25)"
   ]
  },
  {
   "cell_type": "code",
   "execution_count": null,
   "metadata": {},
   "outputs": [],
   "source": [
    "smc[\"y\"] = smc[AMPLITUDE] - smc[\"curve\"]"
   ]
  },
  {
   "cell_type": "code",
   "execution_count": null,
   "metadata": {},
   "outputs": [],
   "source": [
    "ggplot(smc, aes(PERIOD, \"y\", color=\"density\")) +\\\n",
    "    geom_point()"
   ]
  },
  {
   "cell_type": "code",
   "execution_count": null,
   "metadata": {},
   "outputs": [],
   "source": [
    "from sklearn.cluster import SpectralClustering, KMeans\n",
    "from sklearn.preprocessing import StandardScaler\n",
    "from sklearn.pipeline import make_pipeline\n",
    "\n",
    "X_clustering = smc[\"y\"].values.reshape(-1, 1)\n",
    "\n",
    "num_clusters = 3\n",
    "clustering = KMeans(n_clusters=num_clusters, random_state=0)\n",
    "scaler = StandardScaler()\n",
    "\n",
    "clustering_pipe = make_pipeline(scaler, clustering)\n",
    "\n",
    "clusters = clustering_pipe.fit_predict(X_clustering)"
   ]
  },
  {
   "cell_type": "code",
   "execution_count": null,
   "metadata": {},
   "outputs": [],
   "source": [
    "smc[\"clusters\"] = clusters"
   ]
  },
  {
   "cell_type": "code",
   "execution_count": null,
   "metadata": {},
   "outputs": [],
   "source": [
    "ggplot(smc, aes(PERIOD, \"y\", color=\"clusters\")) +\\\n",
    "    geom_point()"
   ]
  },
  {
   "cell_type": "code",
   "execution_count": null,
   "metadata": {},
   "outputs": [],
   "source": [
    "ggplot(smc, aes(PERIOD, AMPLITUDE, color=\"clusters\")) +\\\n",
    "    geom_point()"
   ]
  },
  {
   "cell_type": "code",
   "execution_count": null,
   "metadata": {},
   "outputs": [],
   "source": [
    "SMC_OOII_CLUSTER = 0\n",
    "\n",
    "smc[\"is_oost_ii\"] = smc[\"clusters\"].map(lambda x: x != SMC_OOII_CLUSTER)"
   ]
  },
  {
   "cell_type": "code",
   "execution_count": null,
   "metadata": {},
   "outputs": [],
   "source": [
    "ggplot(smc, aes(PERIOD, AMPLITUDE, color=\"is_oost_ii\")) +\\\n",
    "    geom_point() +\\\n",
    "    xlab(\"Period (days)\") +\\\n",
    "    ylab(\"Amplitude I band (mag)\") +\\\n",
    "    ggtitle(\"OGLE IV SMC - Oosterhoff Groups\")"
   ]
  },
  {
   "cell_type": "code",
   "execution_count": null,
   "metadata": {},
   "outputs": [],
   "source": [
    "ggplot(smc, aes(PERIOD, AMPLITUDE, color=\"density\")) +\\\n",
    "    facet_wrap(\"~is_oost_ii\") +\\\n",
    "    geom_point()"
   ]
  },
  {
   "cell_type": "code",
   "execution_count": null,
   "metadata": {},
   "outputs": [],
   "source": [
    "boundary_y = smc[smc[\"clusters\"] == SMC_OOII_CLUSTER][\"y\"].max()"
   ]
  },
  {
   "cell_type": "code",
   "execution_count": null,
   "metadata": {},
   "outputs": [],
   "source": [
    "print(\"amp = %f + %f * per + %f * per^2 + %f * per^3\" % \\\n",
    "      (boundary_y + coef[0][0] + reg.intercept_, coef[0][1], coef[0][2], coef[0][3]))"
   ]
  },
  {
   "cell_type": "code",
   "execution_count": null,
   "metadata": {},
   "outputs": [],
   "source": [
    "X_boundary = smc[PERIOD].values.reshape(-1, 1)\n",
    "y_boundary = poly_regression.predict(X_boundary) + boundary_y\n",
    "\n",
    "smc[\"boundary\"] = y_boundary"
   ]
  },
  {
   "cell_type": "code",
   "execution_count": null,
   "metadata": {},
   "outputs": [],
   "source": [
    "ggplot(smc, aes(PERIOD, AMPLITUDE, color=\"density\")) +\\\n",
    "    geom_point() +\\\n",
    "    geom_point(aes(PERIOD, \"boundary\"), color=\"red\") +\\\n",
    "    ylim(0.0, 1.25)"
   ]
  }
 ],
 "metadata": {
  "kernelspec": {
   "display_name": "Python 3",
   "language": "python",
   "name": "python3"
  },
  "language_info": {
   "codemirror_mode": {
    "name": "ipython",
    "version": 3
   },
   "file_extension": ".py",
   "mimetype": "text/x-python",
   "name": "python",
   "nbconvert_exporter": "python",
   "pygments_lexer": "ipython3",
   "version": "3.5.2"
  }
 },
 "nbformat": 4,
 "nbformat_minor": 2
}
